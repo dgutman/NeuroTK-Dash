{
 "cells": [
  {
   "cell_type": "markdown",
   "metadata": {},
   "source": [
    "# DSA Annotation Cleanup\n",
    "Query the annotation documents found in a DSA location, and delete some to clean up the annotations in the server."
   ]
  },
  {
   "cell_type": "code",
   "execution_count": null,
   "metadata": {},
   "outputs": [],
   "source": [
    "# Make custom neurotk Python package importable.\n",
    "import sys\n",
    "sys.path.append('..')\n",
    "\n",
    "# imports\n",
    "from neurotk import login\n",
    "from multiprocessing import Pool\n",
    "from tqdm import tqdm\n",
    "from collections import Counter"
   ]
  },
  {
   "cell_type": "code",
   "execution_count": null,
   "metadata": {},
   "outputs": [],
   "source": [
    "# authenticate girder client\n",
    "gc = login('https://megabrain.neurology.emory.edu/api/v1')"
   ]
  },
  {
   "cell_type": "code",
   "execution_count": null,
   "metadata": {},
   "outputs": [],
   "source": [
    "# some params\n",
    "nproc = 10  # number of processes to use for parallelization\n",
    "parent_id = '641ba814867536bb7a225533'\n",
    "\n",
    "DOCS_TO_DELETE = {\n",
    "}\n",
    "\n",
    "print('Will delete annotation documents in the following list of names:')\n",
    "for i, name in enumerate(DOCS_TO_DELETE):\n",
    "    print(f'  {i+1}. {name}')"
   ]
  },
  {
   "cell_type": "code",
   "execution_count": null,
   "metadata": {},
   "outputs": [],
   "source": [
    "def process_item(item_id: str, verbose: bool = False) -> list[str]:\n",
    "    \"\"\"Process an item for annotations.\n",
    "    \n",
    "    Args:\n",
    "        item_id: Item DSA id.\n",
    "        verbose: True to print out statements.\n",
    "        \n",
    "    Returns:\n",
    "        List of annotation document names.\n",
    "    \n",
    "    \"\"\"\n",
    "    # Get annotation document list.\n",
    "    docs = gc.get(f'annotation?itemId={item_id}&limit=0&offset=0&sort=lowerName&sortdir=1')\n",
    "    \n",
    "    # Get a dictionary of annotation document names.\n",
    "    names = []\n",
    "    \n",
    "    for doc in docs:\n",
    "        if doc.get('annotation'):\n",
    "            if doc.get('annotation').get('name'):\n",
    "                name = doc.get('annotation').get('name')\n",
    "                \n",
    "                if name in DOCS_TO_DELETE:\n",
    "                    # Delete the doc.\n",
    "                    if verbose:\n",
    "                        print(f\"Deleting annotation document {name} (id: {doc['_id']}).\")\n",
    "                        \n",
    "                    _ = gc.delete(f\"annotation/{doc['_id']}\")\n",
    "                else:\n",
    "                    # Track the doc.\n",
    "                    names.append(name)\n",
    "                \n",
    "    return names"
   ]
  },
  {
   "cell_type": "code",
   "execution_count": null,
   "metadata": {},
   "outputs": [],
   "source": [
    "# Get a list of all the annotated images (aka items).\n",
    "print('Getting list of items with annotation documents...')\n",
    "\n",
    "items = gc.get(\n",
    "    f'annotation/images?creatorId={parent_id}&limit=0&offset=0&sort=updated&sortdir=-1'\n",
    ")\n",
    "\n",
    "# Use parallel processing on items.\n",
    "print('\\nProcessing the items, deleting annotation documents...')\n",
    "\n",
    "with Pool(nproc) as pool:\n",
    "    jobs = [\n",
    "        pool.apply_async(\n",
    "            func=process_item, \n",
    "            args=(item['_id'], False,)\n",
    "        ) \n",
    "        for item in items]\n",
    "    \n",
    "    doc_names = []\n",
    "    \n",
    "    for job in tqdm(jobs):\n",
    "        doc_names.extend(job.get())\n",
    "        \n",
    "print('\\nDocuments remaining:')\n",
    "for k, v in Counter(doc_names).items():\n",
    "    print(f'  {k} (n={v})')"
   ]
  }
 ],
 "metadata": {
  "kernelspec": {
   "display_name": "neurotk-dash",
   "language": "python",
   "name": "python3"
  },
  "language_info": {
   "codemirror_mode": {
    "name": "ipython",
    "version": 3
   },
   "file_extension": ".py",
   "mimetype": "text/x-python",
   "name": "python",
   "nbconvert_exporter": "python",
   "pygments_lexer": "ipython3",
   "version": "3.11.5"
  }
 },
 "nbformat": 4,
 "nbformat_minor": 2
}
