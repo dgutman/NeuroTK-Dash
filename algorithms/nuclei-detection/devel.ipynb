{
 "cells": [
  {
   "cell_type": "markdown",
   "metadata": {},
   "source": [
    "# Devel\n",
    "Development scripts, snippets, and other code."
   ]
  },
  {
   "cell_type": "code",
   "execution_count": null,
   "metadata": {},
   "outputs": [],
   "source": [
    "%load_ext autoreload\n",
    "%autoreload 2\n",
    "\n",
    "import sys\n",
    "sys.path.append('../..')"
   ]
  },
  {
   "cell_type": "code",
   "execution_count": null,
   "metadata": {},
   "outputs": [],
   "source": [
    "# Global parameters.\n",
    "API_URL ='http://glasslab.neurology.emory.edu:8080/api/v1'\n",
    "EXAMPLE_ITEM_ID = '65088a859a8ab9ec771ba6b3'\n",
    "USER = 'jvizcar'"
   ]
  },
  {
   "cell_type": "markdown",
   "metadata": {},
   "source": [
    "### Example: read images from DSA"
   ]
  },
  {
   "cell_type": "code",
   "execution_count": null,
   "metadata": {},
   "outputs": [],
   "source": [
    "# Imports\n",
    "import numpy as np\n",
    "from PIL import Image\n",
    "from io import BytesIO\n",
    "import matplotlib.pyplot as plt\n",
    "\n",
    "from neurotk import login\n",
    "from neurotk.girder_utils import get_tile_metadata"
   ]
  },
  {
   "cell_type": "code",
   "execution_count": null,
   "metadata": {},
   "outputs": [],
   "source": [
    "# Authenticate client.\n",
    "gc = login(API_URL, username=USER)"
   ]
  },
  {
   "cell_type": "code",
   "execution_count": null,
   "metadata": {},
   "outputs": [],
   "source": [
    "# Get the an example image.\n",
    "item = gc.getItem(EXAMPLE_ITEM_ID)\n",
    "item"
   ]
  },
  {
   "cell_type": "code",
   "execution_count": null,
   "metadata": {},
   "outputs": [],
   "source": [
    "# Get the tile metadata to read the frame info - find the DAPI frame.\n",
    "tile_metadata = get_tile_metadata(gc, EXAMPLE_ITEM_ID)\n",
    "\n",
    "print('Channel map is the important key.')\n",
    "tile_metadata"
   ]
  },
  {
   "cell_type": "code",
   "execution_count": null,
   "metadata": {},
   "outputs": [],
   "source": [
    "# Get the DAPI image.\n",
    "response = gc.get(\n",
    "    f\"item/{EXAMPLE_ITEM_ID}/tiles/region?units=base_pixels&exact=false&\" + \\\n",
    "    'frame=2&encoding=PNG', \n",
    "    jsonResp=False\n",
    ")\n",
    "\n",
    "img = np.array(Image.open(BytesIO(response.content)))\n",
    "\n",
    "# Show the image.\n",
    "plt.figure(figsize=(10,10))\n",
    "plt.imshow(img, cmap='gray')\n",
    "plt.show()"
   ]
  },
  {
   "cell_type": "markdown",
   "metadata": {},
   "source": [
    "### Blob detector"
   ]
  },
  {
   "cell_type": "code",
   "execution_count": null,
   "metadata": {},
   "outputs": [],
   "source": [
    "# Imports\n",
    "import numpy as np\n",
    "from PIL import Image\n",
    "from io import BytesIO\n",
    "import matplotlib.pyplot as plt\n",
    "from skimage.feature import blob_dog, blob_log, blob_doh\n",
    "from math import sqrt\n",
    "import cv2 as cv\n",
    "from neurotk import login"
   ]
  },
  {
   "cell_type": "code",
   "execution_count": null,
   "metadata": {},
   "outputs": [],
   "source": [
    "# Authenticate client.\n",
    "gc = login(API_URL, username=USER)"
   ]
  },
  {
   "cell_type": "code",
   "execution_count": null,
   "metadata": {},
   "outputs": [],
   "source": [
    "# Pull an image to sample.\n",
    "response = gc.get(\n",
    "    f\"item/{EXAMPLE_ITEM_ID}/tiles/region?units=base_pixels&exact=false&\" + \\\n",
    "    'frame=2&encoding=PNG', \n",
    "    jsonResp=False\n",
    ")\n",
    "\n",
    "img = np.array(Image.open(BytesIO(response.content)))\n",
    "\n",
    "# Subset to only a section of the image.\n",
    "x, y = 2000, 2000\n",
    "size = 1280\n",
    "img = img[y:y+size, x:x+size]\n",
    "\n",
    "plt.imshow(img, cmap='gray')\n",
    "plt.title('Image', fontsize=16)\n",
    "plt.show()"
   ]
  },
  {
   "cell_type": "code",
   "execution_count": null,
   "metadata": {},
   "outputs": [],
   "source": [
    "# # Improve image through preprocessing.\n",
    "# from skimage.filters import threshold_otsu\n",
    "# from scipy.ndimage import binary_fill_holes\n",
    "\n",
    "# # Apply otsu thresholding.\n",
    "# thresh = threshold_otsu(img)\n",
    "\n",
    "# print(f'Otsu threshold: {thresh}')\n",
    "# binary = img > thresh\n",
    "\n",
    "# fig = plt.figure(figsize=(15, 7))\n",
    "# fig.add_subplot(1, 3, 1)\n",
    "# plt.imshow(img, cmap='gray')\n",
    "\n",
    "# fig.add_subplot(1, 3, 2)\n",
    "# plt.imshow(binary, cmap='gray')\n",
    "\n",
    "# # Fill holes.\n",
    "# fill = binary_fill_holes(binary)\n",
    "\n",
    "# fig.add_subplot(1, 3, 3)\n",
    "# plt.imshow(fill, cmap='gray')\n",
    "\n",
    "# plt.show()\n",
    "\n",
    "# img = fill.astype(np.uint8) * 255\n",
    "\n",
    "# img = cv.cvtColor(img, cv.COLOR_GRAY2RGB)\n",
    "\n"
   ]
  },
  {
   "cell_type": "code",
   "execution_count": null,
   "metadata": {},
   "outputs": [],
   "source": [
    "# Source: https://scikit-image.org/docs/stable/auto_examples/features_detection/plot_blob.html\n",
    "# Detect blobs using Laplacian of Gaussian (LoH) method.\n",
    "\n",
    "kwargs = {'max_sigma': 30, 'num_sigma': 15, 'threshold': 0.05}\n",
    "blobs = blob_log(\n",
    "    img, \n",
    "    **kwargs\n",
    ")\n",
    "blobs[:, 2] = blobs[:, 2] * sqrt(2)\n",
    "\n",
    "# Different of Gaussian\n",
    "# blobs = blob_dog(img, max_sigma=30, threshold=.1)\n",
    "# blobs[:, 2] = blobs[:, 2] * sqrt(2)\n",
    "\n",
    "# Difference of Hessian\n",
    "# blobs = blob_doh(img, max_sigma=30, threshold=.01)\n",
    "\n",
    "print(f'Number of blobs detection: {len(blobs)}')"
   ]
  },
  {
   "cell_type": "code",
   "execution_count": null,
   "metadata": {},
   "outputs": [],
   "source": [
    "# Draw the circles.\n",
    "fig = plt.figure(figsize=(12, 5))\n",
    "fig.add_subplot(1, 2, 1)\n",
    "plt.imshow(img, cmap='gray')\n",
    "\n",
    "results = img.copy()\n",
    "results = cv.cvtColor(results, cv.COLOR_GRAY2RGB)\n",
    "\n",
    "for blob in blobs:\n",
    "    y, x, r = blob.astype(int)\n",
    "    \n",
    "    if r <= 5:\n",
    "        continue\n",
    "    \n",
    "    x1, y1 = x - r, y - r\n",
    "    x2, y2 = x + r, y + r\n",
    "    results = cv.rectangle(results, (x1, y1), (x2, y2), (255, 0, 0), 3)\n",
    "    \n",
    "fig.add_subplot(1, 2, 2)\n",
    "plt.imshow(results)\n",
    "plt.show()"
   ]
  },
  {
   "cell_type": "code",
   "execution_count": null,
   "metadata": {},
   "outputs": [],
   "source": [
    "fig, axes = plt.subplots(1, 3, figsize=(9, 3), sharex=True, sharey=True)\n",
    "ax = axes.ravel()\n",
    "\n",
    "for idx, (blobs, color, title) in enumerate(sequence):\n",
    "    ax[idx].set_title(title)\n",
    "    ax[idx].imshow(img)\n",
    "    for blob in blobs:\n",
    "        y, x, r = blob\n",
    "        c = plt.Circle((x, y), r, color=color, linewidth=2, fill=False)\n",
    "        ax[idx].add_patch(c)\n",
    "    ax[idx].set_axis_off()\n",
    "\n",
    "plt.tight_layout()\n",
    "plt.show()"
   ]
  },
  {
   "cell_type": "code",
   "execution_count": null,
   "metadata": {},
   "outputs": [],
   "source": [
    "from pandas import read_csv\n",
    "\n",
    "temp = read_csv('/jcDataStore/Data/nft-ai-project/datasets/annotator-datasets/csvs/expert1-test.csv').iloc[0].fp\n",
    "\n",
    "fp = '/jcDataStore/Data/nft-ai-project/datasets/annotator-datasets/images/638147207f8a5e686a527a86-x81390y42976-x0y1920.png'\n",
    "from shutil import copyfile\n",
    "\n",
    "# label_fp = '/jcDataStore/Data/nft-ai-project/datasets/annotator-datasets/labels/638147207f8a5e686a527a86-x81390y42976-x0y1920.txt'\n",
    "\n",
    "copyfile(fp, 'img.png')"
   ]
  },
  {
   "cell_type": "markdown",
   "metadata": {},
   "source": [
    "### Add blobs to images."
   ]
  },
  {
   "cell_type": "code",
   "execution_count": null,
   "metadata": {},
   "outputs": [],
   "source": [
    "# Imports\n",
    "from glob import glob\n",
    "import numpy as np\n",
    "from skimage.feature import blob_log\n",
    "import matplotlib.pyplot as plt\n",
    "import cv2 as cv\n",
    "from typing import Tuple\n",
    "from math import sqrt\n",
    "from tqdm.notebook import tqdm\n",
    "\n",
    "from os import makedirs\n",
    "from os.path import join\n",
    "\n",
    "from neurotk import imread, login\n",
    "from neurotk.utils import get_filename\n"
   ]
  },
  {
   "cell_type": "code",
   "execution_count": null,
   "metadata": {},
   "outputs": [],
   "source": [
    "gc = login(API_URL, username=USER)"
   ]
  },
  {
   "cell_type": "code",
   "execution_count": null,
   "metadata": {},
   "outputs": [],
   "source": [
    "def blob_detect(fp: str, kwargs: dict, r_thr: int = 5, plot: bool = False,\n",
    "                figsize: Tuple[int, int] = (7, 7), save_dir: str = None) -> str:\n",
    "    \"\"\"Detect blobs in an image, .\n",
    "    \n",
    "    Args:\n",
    "        fp: Filepath of image.\n",
    "        kwargs: Key-word arguments passed to skimage.feature.blob_log.\n",
    "        r_thr: Remove blobs with radii smaller than this value.\n",
    "        plot: Plot figures if True.\n",
    "        figsize: Size of figures to plot.\n",
    "        save_dir: Directory to save label text files.\n",
    "    \n",
    "    Returns:\n",
    "        The blob coordinates in string format.\n",
    "    \n",
    "    \"\"\"\n",
    "    img = imread(fp, grayscale=True)        \n",
    "    h, w = img.shape[:2]\n",
    "    \n",
    "    if plot:\n",
    "        # Draw on the image.\n",
    "        plt.figure(figsize=figsize)\n",
    "        plt.imshow(img, cmap='gray')\n",
    "        plt.title('Image', fontsize=16)\n",
    "        plt.show()\n",
    "    \n",
    "    print(f'Size of image: {w} x {h}.')\n",
    "    blobs = blob_log(img, **kwargs)\n",
    "    \n",
    "    # Add radious in their column.\n",
    "    blobs[:, 2] = blobs[:, 2] * sqrt(2)\n",
    "    \n",
    "    print(f'{len(blobs)} number of blobs detected.')\n",
    "    \n",
    "    # Filter the blobs: \n",
    "    if plot:   \n",
    "        img = cv.cvtColor(img, cv.COLOR_GRAY2RGB)\n",
    "    \n",
    "    lines = ''\n",
    "    \n",
    "    # Filter blobs.\n",
    "    blobs = [blob for blob in blobs if blob[2] > r_thr]\n",
    "    \n",
    "    print(f'{len(blobs)} number of blobs after radii filtering.')\n",
    "\n",
    "    for blob in blobs:\n",
    "        y, x, r = blob.astype(int)\n",
    "        \n",
    "        x1, y1 = x - r, y - r\n",
    "        x2, y2 = x + r, y + r\n",
    "        \n",
    "        lines += f'0 {x / w:4f} {y / h:4f} {(x2-x1) / w:4f} {(y2-y1) / h:4f}\\n'\n",
    "        \n",
    "        if plot:\n",
    "            img = cv.rectangle(img, (x1, y1), (x2, y2), (255, 0, 0), 3)\n",
    "        \n",
    "    if save_dir is not None:\n",
    "        # Save the file.\n",
    "        with open(join(save_dir, f'{get_filename(fp)}.txt'), 'w') as fh:\n",
    "            fh.write(lines.strip())\n",
    "        \n",
    "    if plot:\n",
    "        plt.figure(figsize=figsize)\n",
    "        plt.imshow(img, cmap='gray')\n",
    "        plt.title('Blobs', fontsize=16)\n",
    "        plt.show()\n",
    "        \n",
    "    return lines"
   ]
  },
  {
   "cell_type": "code",
   "execution_count": null,
   "metadata": {},
   "outputs": [],
   "source": [
    "# Get a list of images.\n",
    "src_dir = '/jcDataStore/Data/NeuroTK-Dash/nuclei-detection/'\n",
    "img_fps = sorted([fp for fp in glob(join(src_dir, 'images/*.png'))])\n",
    "\n",
    "label_dir = join(src_dir, 'labels')\n",
    "makedirs(label_dir, exist_ok=True)"
   ]
  },
  {
   "cell_type": "code",
   "execution_count": null,
   "metadata": {},
   "outputs": [],
   "source": [
    "# Standard parameters.    \n",
    "kwargs = {\n",
    "    'max_sigma': 30, \n",
    "    'num_sigma': 15, \n",
    "    'threshold': 0.05\n",
    "}\n",
    "\n",
    "for fp in tqdm(img_fps):\n",
    "    _ = blob_detect(fp, kwargs=kwargs, save_dir=label_dir, plot=False)"
   ]
  }
 ],
 "metadata": {
  "kernelspec": {
   "display_name": "neurotk-dash",
   "language": "python",
   "name": "python3"
  },
  "language_info": {
   "codemirror_mode": {
    "name": "ipython",
    "version": 3
   },
   "file_extension": ".py",
   "mimetype": "text/x-python",
   "name": "python",
   "nbconvert_exporter": "python",
   "pygments_lexer": "ipython3",
   "version": "3.11.4"
  },
  "orig_nbformat": 4
 },
 "nbformat": 4,
 "nbformat_minor": 2
}
