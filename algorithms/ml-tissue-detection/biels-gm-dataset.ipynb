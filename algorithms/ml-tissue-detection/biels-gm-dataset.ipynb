{
 "cells": [
  {
   "cell_type": "markdown",
   "id": "6cdc5e7f-2986-4ae3-9df0-b61ed6694756",
   "metadata": {},
   "source": [
    "# Dataset of Biels WSI Annotated for Gray Matter"
   ]
  },
  {
   "cell_type": "code",
   "execution_count": 1,
   "id": "2808290a-48b7-4932-8d89-76e70c08ee2f",
   "metadata": {},
   "outputs": [],
   "source": [
    "%load_ext autoreload\n",
    "%autoreload 2"
   ]
  },
  {
   "cell_type": "code",
   "execution_count": 19,
   "id": "90a3e66d-fd8f-4778-abb0-b8863b0705d4",
   "metadata": {},
   "outputs": [],
   "source": [
    "# Imports\n",
    "import sys\n",
    "sys.path.append('../..')\n",
    "\n",
    "from os.path import join, isfile, splitext, basename\n",
    "import matplotlib.pyplot as plt\n",
    "from tqdm import tqdm\n",
    "from ipywidgets import interact, IntSlider\n",
    "from glob import glob\n",
    "\n",
    "from neurotk import login, imwrite, imread\n",
    "from neurotk.girder_utils import get_items, get_thumbnail_with_mask\n",
    "from neurotk.utils import create_dirs"
   ]
  },
  {
   "cell_type": "code",
   "execution_count": 3,
   "id": "3fa09bb2-a19c-4a87-8e37-c314d19a3436",
   "metadata": {},
   "outputs": [],
   "source": [
    "# Authenticate girder client.\n",
    "gc = login('https://megabrain.neurology.emory.edu/api/v1',\n",
    "           username='jvizcar', password='W00lyW00ly!')"
   ]
  },
  {
   "cell_type": "code",
   "execution_count": 4,
   "id": "92b42dc6-21c1-4104-9f23-b878b02cbc8b",
   "metadata": {},
   "outputs": [],
   "source": [
    "# Create directories to save images and masks.\n",
    "root_dir = '/jcDataStore/Data/NeuroTK-Dash/ml-tissue-detection/' + \\\n",
    "           'gray-matter-dataset'\n",
    "\n",
    "img_dir = join(root_dir, 'images')\n",
    "mask_dir = join(root_dir, 'masks')\n",
    "\n",
    "create_dirs((img_dir, mask_dir))"
   ]
  },
  {
   "cell_type": "code",
   "execution_count": 5,
   "id": "76b71d74-ebd8-4adc-b16b-7240be3236dc",
   "metadata": {},
   "outputs": [
    {
     "name": "stderr",
     "output_type": "stream",
     "text": [
      "100%|██████████████████████████████████████████████████████████████████████████████████████████| 44875/44875 [07:34<00:00, 98.71it/s]\n"
     ]
    },
    {
     "name": "stdout",
     "output_type": "stream",
     "text": [
      "There are 232 biels WSIs with gray matter annotations.\n"
     ]
    }
   ],
   "source": [
    "# Get list of IDs with annotation document \"ManualGrayMatter\"\n",
    "items = []\n",
    "                                # Emory ADRC collection\n",
    "for item in tqdm(get_items(gc, '641ba814867536bb7a225533')):\n",
    "    # Only look at Biels\n",
    "    meta = item['meta'] if 'meta' in item else {}\n",
    "    schema = meta['npSchema'] if 'npSchema' in meta else {}\n",
    "\n",
    "    if 'stainID' not in schema or schema['stainID'] != 'Biels':\n",
    "        continue\n",
    "    \n",
    "    # Check for the annotation document.\n",
    "    docs = gc.get(\n",
    "        f\"annotation?itemId={item['_id']}&sort=lowerName&sortdir=1\"\n",
    "    )\n",
    "\n",
    "    for doc in gc.get(\n",
    "        f\"annotation?itemId={item['_id']}&sort=lowerName&sortdir=1\"\n",
    "    ):\n",
    "        if doc['annotation']['name'] == 'ManualGrayMatter':\n",
    "            items.append(item)\n",
    "            break\n",
    "\n",
    "print(f'There are {len(items)} biels WSIs with gray matter annotations.')"
   ]
  },
  {
   "cell_type": "code",
   "execution_count": 9,
   "id": "f5282dc9-6872-4da3-8c11-73da472d7c13",
   "metadata": {},
   "outputs": [
    {
     "name": "stdout",
     "output_type": "stream",
     "text": [
      "Saving thumbnail images and masks as size 256.\n"
     ]
    },
    {
     "name": "stderr",
     "output_type": "stream",
     "text": [
      "100%|█████████████████████████████████████████████████████████████████████████████████████████████| 232/232 [00:00<00:00, 591.81it/s]\n"
     ]
    }
   ],
   "source": [
    "# Loop through each WSI and save the thumbnail and binary mask.\n",
    "size = 256  # size to save images / mask for training (will be square)\n",
    "annotation_docs = ['ManualGrayMatter']\n",
    "annotation_groups = ['Gray Matter']\n",
    "\n",
    "print(f'Saving thumbnail images and masks as size {size}.')\n",
    "for item in tqdm(items):\n",
    "    # Skip some WSIs that are currently problematic.\n",
    "    if item['_id'] in (\n",
    "        '641ba8e0867536bb7a225865', '641ba952867536bb7a225a4b',\n",
    "        '641baaa9867536bb7a225ff5', '641babbf867536bb7a22643f'\n",
    "    ):\n",
    "        continue\n",
    "\n",
    "    fn = splitext(item['name'])[0] + '.png'\n",
    "\n",
    "    img_fp = join(img_dir, fn)\n",
    "    mask_fp = join(mask_dir, fn)\n",
    "\n",
    "    if isfile(img_fp) and isfile(mask_fp):\n",
    "        continue\n",
    "        \n",
    "    thumbnail, mask = get_thumbnail_with_mask(\n",
    "        gc, item['_id'], annotation_docs=annotation_docs, \n",
    "        annotation_groups=annotation_groups, size=size                                           \n",
    "    )\n",
    "\n",
    "    imwrite(img_fp, thumbnail[:, :, :3])\n",
    "    imwrite(mask_fp, mask)"
   ]
  },
  {
   "cell_type": "markdown",
   "id": "0c555774-bbbe-4391-bac1-f5e55f0387bb",
   "metadata": {},
   "source": [
    "## Interactively View Thumbnail Images with Gray Matter Masks"
   ]
  },
  {
   "cell_type": "code",
   "execution_count": 22,
   "id": "4e228a60-c687-4c36-abe2-13afd4effd97",
   "metadata": {},
   "outputs": [
    {
     "data": {
      "application/vnd.jupyter.widget-view+json": {
       "model_id": "bba56f013e63419fb46ca859da7fdd84",
       "version_major": 2,
       "version_minor": 0
      },
      "text/plain": [
       "interactive(children=(IntSlider(value=0, continuous_update=False, description='i', max=227), Output()), _dom_c…"
      ]
     },
     "metadata": {},
     "output_type": "display_data"
    }
   ],
   "source": [
    "# Create interactive.\n",
    "def display_thumbnail_and_gm_mask(i: int):\n",
    "    \"\"\"Display the thumbnail and gray matter mask.\n",
    "    \n",
    "    Args:\n",
    "        i: Index of filepath.\n",
    "        \n",
    "    \"\"\"\n",
    "    fp = thumbnail_fps[i]\n",
    "    thumbnail = imread(fp)\n",
    "\n",
    "    mask = imread(join(mask_dir, basename(fp)))\n",
    "\n",
    "    fig = plt.figure(figsize=(7, 4))\n",
    "    fig.add_subplot(1, 2, 1)\n",
    "    plt.imshow(thumbnail)\n",
    "    fig.add_subplot(1, 2, 2)\n",
    "    plt.imshow(mask)\n",
    "    plt.axis('off')\n",
    "    plt.show()\n",
    "\n",
    "\n",
    "# Get list of image filepaths.\n",
    "thumbnail_fps = glob('/jcDataStore/Data/NeuroTK-Dash/ml-tissue-detection/' + \\\n",
    "                     'gray-matter-dataset/images/*.png')\n",
    "\n",
    "_ = interact(\n",
    "    display_thumbnail_and_gm_mask, \n",
    "    i=IntSlider(min=0, max=len(thumbnail_fps)-1, continuous_update=False),\n",
    ")"
   ]
  }
 ],
 "metadata": {
  "kernelspec": {
   "display_name": "Python [conda env:ml-tissue-detection]",
   "language": "python",
   "name": "conda-env-ml-tissue-detection-py"
  },
  "language_info": {
   "codemirror_mode": {
    "name": "ipython",
    "version": 3
   },
   "file_extension": ".py",
   "mimetype": "text/x-python",
   "name": "python",
   "nbconvert_exporter": "python",
   "pygments_lexer": "ipython3",
   "version": "3.11.4"
  }
 },
 "nbformat": 4,
 "nbformat_minor": 5
}
