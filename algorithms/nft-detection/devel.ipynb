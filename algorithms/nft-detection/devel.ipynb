{
 "cells": [
  {
   "cell_type": "markdown",
   "metadata": {},
   "source": [
    "# Devel\n",
    "Develop code for the detection NFTs in WSIs using Ultralytics' implementation of YOLOv8 (https://docs.ultralytics.com/)."
   ]
  },
  {
   "cell_type": "markdown",
   "metadata": {},
   "source": [
    "### Train model"
   ]
  },
  {
   "cell_type": "code",
   "execution_count": 1,
   "metadata": {},
   "outputs": [],
   "source": [
    "from ultralytics import YOLO"
   ]
  },
  {
   "cell_type": "code",
   "execution_count": 11,
   "metadata": {},
   "outputs": [
    {
     "ename": "TypeError",
     "evalue": "Model.__init__() got an unexpected keyword argument 'batch'",
     "output_type": "error",
     "traceback": [
      "\u001b[0;31m---------------------------------------------------------------------------\u001b[0m",
      "\u001b[0;31mTypeError\u001b[0m                                 Traceback (most recent call last)",
      "\u001b[1;32m/jcDataStore/Projects/NeuroTK-Dash/algorithms/nft-detection/devel.ipynb Cell 4\u001b[0m line \u001b[0;36m6\n\u001b[1;32m      <a href='vscode-notebook-cell://ssh-remote%2Bmegabrain.neurology.emory.edu/jcDataStore/Projects/NeuroTK-Dash/algorithms/nft-detection/devel.ipynb#X10sdnNjb2RlLXJlbW90ZQ%3D%3D?line=0'>1</a>\u001b[0m \u001b[39m# Get YOLO model with pre-trained weights (from COCO dataset).\u001b[39;00m\n\u001b[1;32m      <a href='vscode-notebook-cell://ssh-remote%2Bmegabrain.neurology.emory.edu/jcDataStore/Projects/NeuroTK-Dash/algorithms/nft-detection/devel.ipynb#X10sdnNjb2RlLXJlbW90ZQ%3D%3D?line=1'>2</a>\u001b[0m kwargs \u001b[39m=\u001b[39m {\n\u001b[1;32m      <a href='vscode-notebook-cell://ssh-remote%2Bmegabrain.neurology.emory.edu/jcDataStore/Projects/NeuroTK-Dash/algorithms/nft-detection/devel.ipynb#X10sdnNjb2RlLXJlbW90ZQ%3D%3D?line=2'>3</a>\u001b[0m     \u001b[39m'\u001b[39m\u001b[39mbatch\u001b[39m\u001b[39m'\u001b[39m: \u001b[39m16\u001b[39m\n\u001b[1;32m      <a href='vscode-notebook-cell://ssh-remote%2Bmegabrain.neurology.emory.edu/jcDataStore/Projects/NeuroTK-Dash/algorithms/nft-detection/devel.ipynb#X10sdnNjb2RlLXJlbW90ZQ%3D%3D?line=3'>4</a>\u001b[0m }\n\u001b[0;32m----> <a href='vscode-notebook-cell://ssh-remote%2Bmegabrain.neurology.emory.edu/jcDataStore/Projects/NeuroTK-Dash/algorithms/nft-detection/devel.ipynb#X10sdnNjb2RlLXJlbW90ZQ%3D%3D?line=5'>6</a>\u001b[0m model \u001b[39m=\u001b[39m YOLO(\u001b[39m'\u001b[39;49m\u001b[39myolov8m.yaml\u001b[39;49m\u001b[39m'\u001b[39;49m, \u001b[39m*\u001b[39;49m\u001b[39m*\u001b[39;49mkwargs)\n",
      "\u001b[0;31mTypeError\u001b[0m: Model.__init__() got an unexpected keyword argument 'batch'"
     ]
    }
   ],
   "source": [
    "# Get YOLO model with pre-trained weights (from COCO dataset).\n",
    "model = YOLO('yolov8m.pt')"
   ]
  },
  {
   "cell_type": "code",
   "execution_count": 12,
   "metadata": {},
   "outputs": [
    {
     "name": "stdout",
     "output_type": "stream",
     "text": [
      "Help on method train in module ultralytics.engine.model:\n",
      "\n",
      "train(trainer=None, **kwargs) method of ultralytics.models.yolo.model.YOLO instance\n",
      "    Trains the model on a given dataset.\n",
      "    \n",
      "    Args:\n",
      "        trainer (BaseTrainer, optional): Customized trainer.\n",
      "        **kwargs (Any): Any number of arguments representing the training configuration.\n",
      "\n"
     ]
    }
   ],
   "source": [
    "# To train simply run the train method on the model parameter.\n",
    "help(model.train)"
   ]
  },
  {
   "cell_type": "code",
   "execution_count": 27,
   "metadata": {},
   "outputs": [
    {
     "name": "stderr",
     "output_type": "stream",
     "text": [
      "Ultralytics YOLOv8.0.181 🚀 Python-3.11.5 torch-2.0.1+cu117 CUDA:0 (Tesla P100-PCIE-16GB, 16276MiB)\n",
      "\u001b[34m\u001b[1mengine/trainer: \u001b[0mtask=detect, mode=train, model=yolov8m.yaml, data=/jcDataStore/Data/NeuroTK-Dash/nft-detection/datasets/nft-ai-project/dataset.yaml, epochs=3, patience=20, batch=8, imgsz=1280, save=True, save_period=-1, cache=False, device=0, workers=8, project=/jcDataStore/Data/NeuroTK-Dash/nft-detection/models/, name=test, exist_ok=True, pretrained=True, optimizer=auto, verbose=True, seed=0, deterministic=True, single_cls=False, rect=False, cos_lr=False, close_mosaic=10, resume=False, amp=True, fraction=1.0, profile=False, freeze=None, overlap_mask=True, mask_ratio=4, dropout=0.0, val=True, split=val, save_json=False, save_hybrid=False, conf=None, iou=0.7, max_det=300, half=False, dnn=False, plots=True, source=None, show=False, save_txt=False, save_conf=False, save_crop=False, show_labels=True, show_conf=True, vid_stride=1, stream_buffer=False, line_width=None, visualize=False, augment=False, agnostic_nms=False, classes=None, retina_masks=False, boxes=True, format=torchscript, keras=False, optimize=False, int8=False, dynamic=False, simplify=False, opset=None, workspace=4, nms=False, lr0=0.01, lrf=0.01, momentum=0.937, weight_decay=0.0005, warmup_epochs=3.0, warmup_momentum=0.8, warmup_bias_lr=0.1, box=0.05, cls=0.3, dfl=1.5, pose=12.0, kobj=1.0, label_smoothing=0.0, nbs=64, hsv_h=0.015, hsv_s=0.2, hsv_v=0.4, degrees=0.0, translate=0.1, scale=0.1, shear=0.0, perspective=0.0, flipud=0.5, fliplr=0.5, mosaic=0.0, mixup=0.0, copy_paste=0.0, cfg=None, tracker=botsort.yaml, save_dir=/jcDataStore/Data/NeuroTK-Dash/nft-detection/models/test\n",
      "Overriding model.yaml nc=80 with nc=2\n",
      "\n",
      "                   from  n    params  module                                       arguments                     \n",
      "  0                  -1  1      1392  ultralytics.nn.modules.conv.Conv             [3, 48, 3, 2]                 \n",
      "  1                  -1  1     41664  ultralytics.nn.modules.conv.Conv             [48, 96, 3, 2]                \n",
      "  2                  -1  2    111360  ultralytics.nn.modules.block.C2f             [96, 96, 2, True]             \n",
      "  3                  -1  1    166272  ultralytics.nn.modules.conv.Conv             [96, 192, 3, 2]               \n",
      "  4                  -1  4    813312  ultralytics.nn.modules.block.C2f             [192, 192, 4, True]           \n",
      "  5                  -1  1    664320  ultralytics.nn.modules.conv.Conv             [192, 384, 3, 2]              \n",
      "  6                  -1  4   3248640  ultralytics.nn.modules.block.C2f             [384, 384, 4, True]           \n",
      "  7                  -1  1   1991808  ultralytics.nn.modules.conv.Conv             [384, 576, 3, 2]              \n",
      "  8                  -1  2   3985920  ultralytics.nn.modules.block.C2f             [576, 576, 2, True]           \n",
      "  9                  -1  1    831168  ultralytics.nn.modules.block.SPPF            [576, 576, 5]                 \n",
      " 10                  -1  1         0  torch.nn.modules.upsampling.Upsample         [None, 2, 'nearest']          \n",
      " 11             [-1, 6]  1         0  ultralytics.nn.modules.conv.Concat           [1]                           \n",
      " 12                  -1  2   1993728  ultralytics.nn.modules.block.C2f             [960, 384, 2]                 \n",
      " 13                  -1  1         0  torch.nn.modules.upsampling.Upsample         [None, 2, 'nearest']          \n",
      " 14             [-1, 4]  1         0  ultralytics.nn.modules.conv.Concat           [1]                           \n",
      " 15                  -1  2    517632  ultralytics.nn.modules.block.C2f             [576, 192, 2]                 \n",
      " 16                  -1  1    332160  ultralytics.nn.modules.conv.Conv             [192, 192, 3, 2]              \n",
      " 17            [-1, 12]  1         0  ultralytics.nn.modules.conv.Concat           [1]                           \n",
      " 18                  -1  2   1846272  ultralytics.nn.modules.block.C2f             [576, 384, 2]                 \n",
      " 19                  -1  1   1327872  ultralytics.nn.modules.conv.Conv             [384, 384, 3, 2]              \n",
      " 20             [-1, 9]  1         0  ultralytics.nn.modules.conv.Concat           [1]                           \n",
      " 21                  -1  2   4207104  ultralytics.nn.modules.block.C2f             [960, 576, 2]                 \n",
      " 22        [15, 18, 21]  1   3776854  ultralytics.nn.modules.head.Detect           [2, [192, 384, 576]]          \n",
      "YOLOv8m summary: 295 layers, 25857478 parameters, 25857462 gradients\n",
      "\n",
      "Freezing layer 'model.22.dfl.conv.weight'\n",
      "\u001b[34m\u001b[1mAMP: \u001b[0mrunning Automatic Mixed Precision (AMP) checks with YOLOv8n...\n",
      "Downloading https://github.com/ultralytics/assets/releases/download/v0.0.0/yolov8n.pt to 'yolov8n.pt'...\n",
      "100%|██████████| 6.23M/6.23M [00:00<00:00, 104MB/s]\n",
      "\u001b[34m\u001b[1mAMP: \u001b[0mchecks passed ✅\n",
      "\u001b[34m\u001b[1mtrain: \u001b[0mScanning /jcDataStore/Data/nft-ai-project/datasets/model-assisted-labeling/background-tiles/labels... 5690 images, 3720 backgrounds, 0 corrupt: 100%|██████████| 9410/9410 [01:43<00:00, 91.20it/s] \n",
      "\u001b[34m\u001b[1mtrain: \u001b[0mNew cache created: /jcDataStore/Data/nft-ai-project/datasets/model-assisted-labeling/background-tiles/labels.cache\n",
      "\u001b[34m\u001b[1mval: \u001b[0mScanning /jcDataStore/Data/nft-ai-project/datasets/model-assisted-labeling/tiles/6381476e7f8a5e686a535fad-x21014y20676/labels... 1273 images, 464 backgrounds, 0 corrupt: 100%|██████████| 1737/1737 [00:19<00:00, 88.66it/s]\n",
      "\u001b[34m\u001b[1mval: \u001b[0mNew cache created: /jcDataStore/Data/nft-ai-project/datasets/model-assisted-labeling/tiles/6381476e7f8a5e686a535fad-x21014y20676/labels.cache\n",
      "Plotting labels to /jcDataStore/Data/NeuroTK-Dash/nft-detection/models/test/labels.jpg... \n",
      "\u001b[34m\u001b[1moptimizer:\u001b[0m 'optimizer=auto' found, ignoring 'lr0=0.01' and 'momentum=0.937' and determining best 'optimizer', 'lr0' and 'momentum' automatically... \n",
      "\u001b[34m\u001b[1moptimizer:\u001b[0m AdamW(lr=0.001667, momentum=0.9) with parameter groups 77 weight(decay=0.0), 84 weight(decay=0.0005), 83 bias(decay=0.0)\n",
      "Image sizes 1280 train, 1280 val\n",
      "Using 8 dataloader workers\n",
      "Logging results to \u001b[1m/jcDataStore/Data/NeuroTK-Dash/nft-detection/models/test\u001b[0m\n",
      "Starting training for 3 epochs...\n",
      "\n",
      "      Epoch    GPU_mem   box_loss   cls_loss   dfl_loss  Instances       Size\n",
      "        1/3      15.3G    0.01553      2.523      2.355          6       1280: 100%|██████████| 1177/1177 [23:15<00:00,  1.19s/it]\n",
      "                 Class     Images  Instances      Box(P          R      mAP50  mAP50-95): 100%|██████████| 109/109 [01:14<00:00,  1.47it/s]\n",
      "                   all       1737       6194      0.437      0.437      0.393      0.196\n",
      "\n",
      "      Epoch    GPU_mem   box_loss   cls_loss   dfl_loss  Instances       Size\n",
      "        2/3      15.5G    0.01097      1.017      1.764         34       1280:  14%|█▍        | 164/1177 [03:13<20:01,  1.19s/it]"
     ]
    }
   ],
   "source": [
    "# Specify parameters for training, including parameters used in NFT project.\n",
    "kwargs = {\n",
    "    'data': '/jcDataStore/Data/NeuroTK-Dash/nft-detection/datasets/' + \\\n",
    "            'nft-ai-project/dataset.yaml',\n",
    "    'epochs': 3,\n",
    "    'patience': 20,\n",
    "    'batch': 8,\n",
    "    'imgsz': 1280,\n",
    "    'device': 0,  # for multiple GPUs you can pass the GPU ids in a list\n",
    "    'project': '/jcDataStore/Data/NeuroTK-Dash/nft-detection/models/',\n",
    "    'name': 'test',\n",
    "    'exist_ok': True,\n",
    "    'verbose': True,\n",
    "    # hyps\n",
    "    'box': 0.05,\n",
    "    'cls': 0.3,\n",
    "    'hsv_h': 0.015,\n",
    "    'hsv_s': 0.2,\n",
    "    'hsv_v': 0.4,\n",
    "    'scale': 0.1,\n",
    "    'flipud': 0.5,\n",
    "    'fliplr': 0.5,\n",
    "    'mosaic': 0.0\n",
    "}\n",
    "\n",
    "results = model.train(**kwargs)\n"
   ]
  }
 ],
 "metadata": {
  "kernelspec": {
   "display_name": "yolo-detect",
   "language": "python",
   "name": "python3"
  },
  "language_info": {
   "codemirror_mode": {
    "name": "ipython",
    "version": 3
   },
   "file_extension": ".py",
   "mimetype": "text/x-python",
   "name": "python",
   "nbconvert_exporter": "python",
   "pygments_lexer": "ipython3",
   "version": "3.11.5"
  },
  "orig_nbformat": 4
 },
 "nbformat": 4,
 "nbformat_minor": 2
}
